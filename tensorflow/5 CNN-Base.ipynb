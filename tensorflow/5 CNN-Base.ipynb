{
 "cells": [
  {
   "attachments": {},
   "cell_type": "markdown",
   "metadata": {},
   "source": [
    "# Convolutional Neural Nets"
   ]
  },
  {
   "cell_type": "code",
   "execution_count": 1,
   "metadata": {},
   "outputs": [],
   "source": [
    "# Import Libraries\n",
    "from tensorflow import keras\n",
    "from tensorflow.keras import layers\n",
    "import numpy as np\n",
    "import matplotlib.pyplot as plt"
   ]
  },
  {
   "cell_type": "code",
   "execution_count": 2,
   "metadata": {},
   "outputs": [],
   "source": [
    "(X_train, y_train), (X_test, y_test) =  keras.datasets.cifar10.load_data() # load data"
   ]
  },
  {
   "cell_type": "code",
   "execution_count": 3,
   "metadata": {},
   "outputs": [
    {
     "data": {
      "text/plain": [
       "((50000, 32, 32, 3), (10000, 32, 32, 3))"
      ]
     },
     "execution_count": 3,
     "metadata": {},
     "output_type": "execute_result"
    }
   ],
   "source": [
    "X_train.shape, X_test.shape # 32 * 32 pixels with tensor 3(RGB)"
   ]
  },
  {
   "cell_type": "code",
   "execution_count": 4,
   "metadata": {},
   "outputs": [],
   "source": [
    "y_train = y_train.reshape(-1,) # flattening out the array"
   ]
  },
  {
   "attachments": {},
   "cell_type": "markdown",
   "metadata": {},
   "source": [
    "Display Image"
   ]
  },
  {
   "cell_type": "code",
   "execution_count": 5,
   "metadata": {},
   "outputs": [],
   "source": [
    "classes = [\"airplane\", \"automobile\", \"bird\", \"cat\", \"deer\", \"dog\", \"frog\", \"house\",\n",
    "           \"ship\", \"truck\"]"
   ]
  },
  {
   "cell_type": "code",
   "execution_count": 6,
   "metadata": {},
   "outputs": [],
   "source": [
    "def number(index):\n",
    "    print(index)\n",
    "    plt.figure(figsize=(15,2))\n",
    "    plt.imshow(X_train[index])\n",
    "    print(\"---\" * 15)\n",
    "    print(f\"The image is {classes[y_train[index]]}\")\n",
    "    print(\"---\" * 15)"
   ]
  },
  {
   "cell_type": "code",
   "execution_count": 7,
   "metadata": {},
   "outputs": [
    {
     "name": "stdout",
     "output_type": "stream",
     "text": [
      "12540\n",
      "---------------------------------------------\n",
      "The image is airplane\n",
      "---------------------------------------------\n"
     ]
    },
    {
     "data": {
      "image/png": "[encoded data removed]",
      "text/plain": [
       "<Figure size 1500x200 with 1 Axes>"
      ]
     },
     "metadata": {},
     "output_type": "display_data"
    }
   ],
   "source": [
    "import random\n",
    "index = random.randrange(0, 50000)\n",
    "number(index)"
   ]
  },
  {
   "attachments": {},
   "cell_type": "markdown",
   "metadata": {},
   "source": [
    "Data Split"
   ]
  },
  {
   "cell_type": "code",
   "execution_count": 8,
   "metadata": {},
   "outputs": [],
   "source": [
    "from sklearn.model_selection import train_test_split\n",
    "X_train, X_val, y_train, y_val = train_test_split(X_train, y_train, random_state=51, test_size=0.1)"
   ]
  },
  {
   "cell_type": "code",
   "execution_count": 9,
   "metadata": {},
   "outputs": [
    {
     "data": {
      "text/plain": [
       "((45000, 32, 32, 3), (5000, 32, 32, 3))"
      ]
     },
     "execution_count": 9,
     "metadata": {},
     "output_type": "execute_result"
    }
   ],
   "source": [
    "X_train.shape, X_val.shape"
   ]
  },
  {
   "attachments": {},
   "cell_type": "markdown",
   "metadata": {},
   "source": [
    "Converting labels into a 1D array"
   ]
  },
  {
   "cell_type": "code",
   "execution_count": 10,
   "metadata": {},
   "outputs": [],
   "source": [
    "# y_train = y_train.reshape(-1,)"
   ]
  },
  {
   "cell_type": "code",
   "execution_count": 10,
   "metadata": {},
   "outputs": [],
   "source": [
    "y_val = y_val.reshape(-1,)"
   ]
  },
  {
   "cell_type": "code",
   "execution_count": 11,
   "metadata": {},
   "outputs": [],
   "source": [
    "y_test = y_test.reshape(-1,)"
   ]
  },
  {
   "attachments": {},
   "cell_type": "markdown",
   "metadata": {},
   "source": [
    "Normalization"
   ]
  },
  {
   "cell_type": "code",
   "execution_count": 12,
   "metadata": {},
   "outputs": [],
   "source": [
    "X_train = X_train / 255\n",
    "X_val = X_val / 255\n",
    "X_test = X_test / 255"
   ]
  },
  {
   "cell_type": "code",
   "execution_count": 13,
   "metadata": {},
   "outputs": [
    {
     "data": {
      "text/plain": [
       "(32, 32, 3)"
      ]
     },
     "execution_count": 13,
     "metadata": {},
     "output_type": "execute_result"
    }
   ],
   "source": [
    "X_train[0].shape"
   ]
  },
  {
   "attachments": {},
   "cell_type": "markdown",
   "metadata": {},
   "source": [
    "ANN"
   ]
  },
  {
   "cell_type": "code",
   "execution_count": 14,
   "metadata": {},
   "outputs": [],
   "source": [
    "i = layers.Input(shape=(32, 32, 3))\n",
    "\n",
    "x = layers.Flatten()(i)\n",
    "x = layers.Dense(64, activation=\"relu\")(x)\n",
    "x = layers.Dense(128, activation=\"relu\")(x)\n",
    "x = layers.Dense(10, activation=\"softmax\")(x)\n",
    "\n",
    "model = keras.models.Model(i, x)"
   ]
  },
  {
   "cell_type": "code",
   "execution_count": 15,
   "metadata": {},
   "outputs": [],
   "source": [
    "model.compile(optimizer=\"rmsprop\", loss=\"sparse_categorical_crossentropy\", metrics=[\"accuracy\"])"
   ]
  },
  {
   "cell_type": "code",
   "execution_count": 16,
   "metadata": {},
   "outputs": [
    {
     "name": "stdout",
     "output_type": "stream",
     "text": [
      "Epoch 1/5\n",
      "176/176 [==============================] - 1s 5ms/step - loss: 2.0917 - accuracy: 0.2345 - val_loss: 2.0437 - val_accuracy: 0.2724\n",
      "Epoch 2/5\n",
      "176/176 [==============================] - 1s 4ms/step - loss: 1.8884 - accuracy: 0.3176 - val_loss: 1.8203 - val_accuracy: 0.3562\n",
      "Epoch 3/5\n",
      "176/176 [==============================] - 1s 4ms/step - loss: 1.8107 - accuracy: 0.3483 - val_loss: 1.8582 - val_accuracy: 0.3244\n",
      "Epoch 4/5\n",
      "176/176 [==============================] - 1s 4ms/step - loss: 1.7631 - accuracy: 0.3637 - val_loss: 1.7765 - val_accuracy: 0.3700\n",
      "Epoch 5/5\n",
      "176/176 [==============================] - 1s 4ms/step - loss: 1.7304 - accuracy: 0.3804 - val_loss: 1.7689 - val_accuracy: 0.3754\n"
     ]
    },
    {
     "data": {
      "text/plain": [
       "<keras.callbacks.History at 0x15dbf1d9090>"
      ]
     },
     "execution_count": 16,
     "metadata": {},
     "output_type": "execute_result"
    }
   ],
   "source": [
    "model.fit(X_train, y_train, epochs=5, validation_data=(X_val, y_val), batch_size=256)"
   ]
  },
  {
   "cell_type": "code",
   "execution_count": 17,
   "metadata": {},
   "outputs": [
    {
     "name": "stdout",
     "output_type": "stream",
     "text": [
      "313/313 [==============================] - 0s 905us/step - loss: 1.7384 - accuracy: 0.3793\n"
     ]
    },
    {
     "data": {
      "text/plain": [
       "[1.7383798360824585, 0.37929999828338623]"
      ]
     },
     "execution_count": 17,
     "metadata": {},
     "output_type": "execute_result"
    }
   ],
   "source": [
    "model.evaluate(X_test, y_test)"
   ]
  },
  {
   "attachments": {},
   "cell_type": "markdown",
   "metadata": {},
   "source": [
    "CNN"
   ]
  },
  {
   "cell_type": "code",
   "execution_count": 19,
   "metadata": {},
   "outputs": [],
   "source": [
    "i = layers.Input(shape=(32, 32, 3))\n",
    "\n",
    "x = layers.Conv2D(32, (3, 3), activation=\"relu\", input_shape=(32, 32, 3), padding=\"same\")(i)\n",
    "x = layers.Dropout(0.2)(x)\n",
    "x = layers.MaxPool2D((2,2))(x)\n",
    "x = layers.Conv2D(64, (3, 3), activation=\"relu\", padding=\"same\")(x)\n",
    "x = layers.Dropout(0.5)(x)\n",
    "x = layers.MaxPool2D((2,2))(x)\n",
    "x = layers.Flatten()(x)\n",
    "x = layers.Dense(64, activation=\"relu\")(x)\n",
    "x = layers.Dense(10, activation=\"softmax\")(x)\n",
    "\n",
    "model = keras.models.Model(i, x)"
   ]
  },
  {
   "cell_type": "code",
   "execution_count": 23,
   "metadata": {},
   "outputs": [],
   "source": [
    "# model = keras.Sequential([\n",
    "#     layers.Conv2D(32, (3, 3), activation=\"relu\", input_shape=(32, 32, 3), padding=\"same\"),\n",
    "#     layers.Dropout(0.2),\n",
    "#     layers.MaxPool2D((2,2)),\n",
    "#     layers.Conv2D(64, (3, 3), activation=\"relu\", padding=\"same\"),\n",
    "#     layers.Dropout(0.5),\n",
    "#     layers.MaxPool2D((2,2)),\n",
    "#     layers.Flatten(),\n",
    "#     layers.Dense(64, activation=\"relu\"),\n",
    "#     layers.Dense(10, activation=\"softmax\")\n",
    "# ])"
   ]
  },
  {
   "cell_type": "code",
   "execution_count": 20,
   "metadata": {},
   "outputs": [],
   "source": [
    "model.compile(optimizer=\"adam\", loss=\"sparse_categorical_crossentropy\", metrics=[\"accuracy\"])"
   ]
  },
  {
   "cell_type": "code",
   "execution_count": 21,
   "metadata": {},
   "outputs": [
    {
     "name": "stdout",
     "output_type": "stream",
     "text": [
      "Epoch 1/10\n",
      "176/176 [==============================] - 42s 237ms/step - loss: 1.7075 - accuracy: 0.3906 - val_loss: 1.6089 - val_accuracy: 0.4838\n",
      "Epoch 2/10\n",
      "176/176 [==============================] - 48s 275ms/step - loss: 1.3246 - accuracy: 0.5308 - val_loss: 1.4318 - val_accuracy: 0.5642\n",
      "Epoch 3/10\n",
      "176/176 [==============================] - 47s 268ms/step - loss: 1.1898 - accuracy: 0.5844 - val_loss: 1.3613 - val_accuracy: 0.5820\n",
      "Epoch 4/10\n",
      "176/176 [==============================] - 55s 313ms/step - loss: 1.1053 - accuracy: 0.6137 - val_loss: 1.2545 - val_accuracy: 0.6188\n",
      "Epoch 5/10\n",
      "176/176 [==============================] - 51s 291ms/step - loss: 1.0447 - accuracy: 0.6370 - val_loss: 1.2060 - val_accuracy: 0.6430\n",
      "Epoch 6/10\n",
      "176/176 [==============================] - 43s 242ms/step - loss: 0.9949 - accuracy: 0.6531 - val_loss: 1.1746 - val_accuracy: 0.6538\n",
      "Epoch 7/10\n",
      "176/176 [==============================] - 44s 247ms/step - loss: 0.9551 - accuracy: 0.6666 - val_loss: 1.1348 - val_accuracy: 0.6620\n",
      "Epoch 8/10\n",
      "176/176 [==============================] - 42s 238ms/step - loss: 0.9170 - accuracy: 0.6841 - val_loss: 1.1048 - val_accuracy: 0.6696\n",
      "Epoch 9/10\n",
      "176/176 [==============================] - 45s 256ms/step - loss: 0.8863 - accuracy: 0.6912 - val_loss: 1.0606 - val_accuracy: 0.6724\n",
      "Epoch 10/10\n",
      "176/176 [==============================] - 47s 267ms/step - loss: 0.8635 - accuracy: 0.7020 - val_loss: 1.0415 - val_accuracy: 0.6848\n"
     ]
    },
    {
     "data": {
      "text/plain": [
       "<keras.callbacks.History at 0x15dc0425c30>"
      ]
     },
     "execution_count": 21,
     "metadata": {},
     "output_type": "execute_result"
    }
   ],
   "source": [
    "model.fit(X_train, y_train, epochs=10, validation_data=(X_val, y_val), batch_size=256)"
   ]
  },
  {
   "cell_type": "code",
   "execution_count": 22,
   "metadata": {},
   "outputs": [
    {
     "name": "stdout",
     "output_type": "stream",
     "text": [
      "313/313 [==============================] - 3s 11ms/step - loss: 1.0310 - accuracy: 0.6923\n"
     ]
    },
    {
     "data": {
      "text/plain": [
       "[1.0309988260269165, 0.692300021648407]"
      ]
     },
     "execution_count": 22,
     "metadata": {},
     "output_type": "execute_result"
    }
   ],
   "source": [
    "model.evaluate(X_test, y_test)"
   ]
  }
 ],
 "metadata": {
  "kernelspec": {
   "display_name": "base",
   "language": "python",
   "name": "python3"
  },
  "language_info": {
   "codemirror_mode": {
    "name": "ipython",
    "version": 3
   },
   "file_extension": ".py",
   "mimetype": "text/x-python",
   "name": "python",
   "nbconvert_exporter": "python",
   "pygments_lexer": "ipython3",
   "version": "3.10.9"
  },
  "orig_nbformat": 4
 },
 "nbformat": 4,
 "nbformat_minor": 2
}
